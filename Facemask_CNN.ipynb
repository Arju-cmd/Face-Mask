{
  "nbformat": 4,
  "nbformat_minor": 0,
  "metadata": {
    "colab": {
      "name": "Facemask_CNN.ipynb",
      "provenance": [],
      "mount_file_id": "1QK_U8Q302hGK58GsfcgF7DBJL9mju3V9",
      "authorship_tag": "ABX9TyMSglrRgggbmbA+Rt/Eln8u",
      "include_colab_link": true
    },
    "kernelspec": {
      "name": "python3",
      "display_name": "Python 3"
    },
    "language_info": {
      "name": "python"
    },
    "accelerator": "GPU"
  },
  "cells": [
    {
      "cell_type": "markdown",
      "metadata": {
        "id": "view-in-github",
        "colab_type": "text"
      },
      "source": [
        "<a href=\"https://colab.research.google.com/github/Arju-cmd/Face-Mask/blob/main/Facemask_CNN.ipynb\" target=\"_parent\"><img src=\"https://colab.research.google.com/assets/colab-badge.svg\" alt=\"Open In Colab\"/></a>"
      ]
    },
    {
      "cell_type": "code",
      "metadata": {
        "id": "zLUyR4lp-reJ"
      },
      "source": [
        "# Import the Sequential model and layers\n",
        "from keras.models import Sequential\n",
        "from keras.layers import Conv2D, MaxPooling2D\n",
        "from keras.layers import Activation, Dropout, Flatten, Dense\n",
        "from keras import backend as K"
      ],
      "execution_count": 1,
      "outputs": []
    },
    {
      "cell_type": "code",
      "metadata": {
        "id": "gy5mnH_yxMEf"
      },
      "source": [
        ""
      ],
      "execution_count": 1,
      "outputs": []
    },
    {
      "cell_type": "code",
      "metadata": {
        "id": "w4GKqRUa_1Gt"
      },
      "source": [
        "from keras.preprocessing.image import ImageDataGenerator"
      ],
      "execution_count": 2,
      "outputs": []
    },
    {
      "cell_type": "code",
      "metadata": {
        "id": "plnsUJjt_1J2"
      },
      "source": [
        "import numpy as np"
      ],
      "execution_count": 3,
      "outputs": []
    },
    {
      "cell_type": "code",
      "metadata": {
        "id": "lD4LKiE8APR1"
      },
      "source": [
        "from keras.preprocessing import image"
      ],
      "execution_count": 4,
      "outputs": []
    },
    {
      "cell_type": "code",
      "metadata": {
        "id": "s_TpJo4qAPU_"
      },
      "source": [
        "img_width, img_height =150,150"
      ],
      "execution_count": 5,
      "outputs": []
    },
    {
      "cell_type": "code",
      "metadata": {
        "id": "aKvN8uIkAakl"
      },
      "source": [
        "Train_dat_dir = '/content/drive/MyDrive/Mydrive/Face Mask/maskdata/train'\n",
        "Validation_data_dir = '/content/drive/MyDrive/Mydrive/Face Mask/maskdata/test'\n",
        "Nb_train_samples =200\n",
        "Nb_validation_samples = 200\n",
        "Epochs = 50\n",
        "batch_size = 20\n"
      ],
      "execution_count": 6,
      "outputs": []
    },
    {
      "cell_type": "code",
      "metadata": {
        "id": "o8cdAOsqAana"
      },
      "source": [
        "if K.image_data_format() == 'channels_first':\n",
        "  input_shape = (3,img_width, img_height )\n",
        "else:\n",
        "  input_shape = (img_width, img_height, 3 )"
      ],
      "execution_count": 7,
      "outputs": []
    },
    {
      "cell_type": "code",
      "metadata": {
        "id": "w1dLOqC2AaqE"
      },
      "source": [
        "train_datagen = ImageDataGenerator(\n",
        "        rescale=1./255,\n",
        "        shear_range=0.2,\n",
        "        zoom_range=0.2,\n",
        "        horizontal_flip=True)"
      ],
      "execution_count": 8,
      "outputs": []
    },
    {
      "cell_type": "code",
      "metadata": {
        "id": "5Z_sdzoYGTpI"
      },
      "source": [
        "test_datagen = ImageDataGenerator(rescale=1./255)"
      ],
      "execution_count": 9,
      "outputs": []
    },
    {
      "cell_type": "code",
      "metadata": {
        "colab": {
          "base_uri": "https://localhost:8080/"
        },
        "id": "3rSMxT7eGTrz",
        "outputId": "22162cfc-cea9-48c1-9d65-c41ae4301a7d"
      },
      "source": [
        "train_generator = train_datagen.flow_from_directory(\n",
        "        Train_dat_dir,  # this is the target directory\n",
        "        target_size=(img_width, img_height),  # all images will be resized to 150x150\n",
        "        batch_size=batch_size,\n",
        "        class_mode='binary')"
      ],
      "execution_count": 10,
      "outputs": [
        {
          "output_type": "stream",
          "text": [
            "Found 616 images belonging to 2 classes.\n"
          ],
          "name": "stdout"
        }
      ]
    },
    {
      "cell_type": "code",
      "metadata": {
        "colab": {
          "base_uri": "https://localhost:8080/"
        },
        "id": "gMwXsYN1J9vO",
        "outputId": "b13347f6-bee7-4ae7-8a44-ffd887305220"
      },
      "source": [
        "validation_generator = test_datagen.flow_from_directory(\n",
        "        Validation_data_dir,\n",
        "        target_size=(img_width, img_height),\n",
        "        batch_size=batch_size,\n",
        "        class_mode='binary')"
      ],
      "execution_count": 11,
      "outputs": [
        {
          "output_type": "stream",
          "text": [
            "Found 198 images belonging to 2 classes.\n"
          ],
          "name": "stdout"
        }
      ]
    },
    {
      "cell_type": "code",
      "metadata": {
        "id": "Yr5PikbmJ94p"
      },
      "source": [
        "# MODEL\n",
        "from keras.models import Sequential\n",
        "from keras.layers import Conv2D, MaxPooling2D\n",
        "from keras.layers import Activation, Dropout, Flatten, Dense\n",
        "\n",
        "model = Sequential()\n",
        "model.add(Conv2D(32, (3, 3), input_shape=input_shape))\n",
        "model.add(Activation('relu'))\n",
        "model.add(MaxPooling2D(pool_size=(2, 2)))\n",
        "\n",
        "model.add(Conv2D(32, (3, 3)))\n",
        "model.add(Activation('relu'))\n",
        "model.add(MaxPooling2D(pool_size=(2, 2)))\n",
        "\n",
        "model.add(Conv2D(64, (3, 3)))\n",
        "model.add(Activation('relu'))\n",
        "model.add(MaxPooling2D(pool_size=(2, 2)))"
      ],
      "execution_count": 12,
      "outputs": []
    },
    {
      "cell_type": "code",
      "metadata": {
        "id": "31rvmKBuGTul"
      },
      "source": [
        "model.add(Flatten())\n",
        "model.add(Dense(64))\n",
        "model.add(Activation('relu'))\n",
        "model.add(Dropout(0.5))\n",
        "model.add(Dense(1))\n",
        "model.add(Activation('sigmoid'))\n",
        "\n",
        "model.compile(loss = 'binary_crossentropy',\n",
        "              optimizer = 'rmsprop',\n",
        "              metrics = ['accuracy'])"
      ],
      "execution_count": 13,
      "outputs": []
    },
    {
      "cell_type": "code",
      "metadata": {
        "colab": {
          "base_uri": "https://localhost:8080/"
        },
        "id": "-kJX5WQU_s3P",
        "outputId": "4f1df770-704f-4749-db69-323786e0946b"
      },
      "source": [
        "# TRAINING\n",
        "r = model.fit_generator(\n",
        "        train_generator,\n",
        "        steps_per_epoch=Nb_train_samples // batch_size,\n",
        "        epochs=Epochs,\n",
        "        validation_data=validation_generator,\n",
        "        validation_steps = Nb_validation_samples // batch_size)\n",
        "\n"
      ],
      "execution_count": 14,
      "outputs": [
        {
          "output_type": "stream",
          "text": [
            "/usr/local/lib/python3.7/dist-packages/keras/engine/training.py:1915: UserWarning: `Model.fit_generator` is deprecated and will be removed in a future version. Please use `Model.fit`, which supports generators.\n",
            "  warnings.warn('`Model.fit_generator` is deprecated and '\n"
          ],
          "name": "stderr"
        },
        {
          "output_type": "stream",
          "text": [
            "Epoch 1/50\n",
            "10/10 [==============================] - 145s 11s/step - loss: 1.1378 - accuracy: 0.5257 - val_loss: 0.7541 - val_accuracy: 0.3434\n",
            "Epoch 2/50\n",
            "10/10 [==============================] - 41s 4s/step - loss: 0.5785 - accuracy: 0.6706 - val_loss: 0.3879 - val_accuracy: 0.8687\n",
            "Epoch 3/50\n",
            "10/10 [==============================] - 24s 2s/step - loss: 0.2966 - accuracy: 0.8975 - val_loss: 0.2632 - val_accuracy: 0.9242\n",
            "Epoch 4/50\n",
            "10/10 [==============================] - 16s 2s/step - loss: 0.2445 - accuracy: 0.9170 - val_loss: 0.5594 - val_accuracy: 0.7677\n",
            "Epoch 5/50\n",
            "10/10 [==============================] - 14s 1s/step - loss: 0.3941 - accuracy: 0.8733 - val_loss: 0.2283 - val_accuracy: 0.8939\n",
            "Epoch 6/50\n",
            "10/10 [==============================] - 11s 1s/step - loss: 0.3570 - accuracy: 0.8978 - val_loss: 0.2484 - val_accuracy: 0.8788\n",
            "Epoch 7/50\n",
            "10/10 [==============================] - 8s 900ms/step - loss: 0.2159 - accuracy: 0.9200 - val_loss: 0.2256 - val_accuracy: 0.8939\n",
            "Epoch 8/50\n",
            "10/10 [==============================] - 6s 678ms/step - loss: 0.1430 - accuracy: 0.9553 - val_loss: 0.2266 - val_accuracy: 0.8838\n",
            "Epoch 9/50\n",
            "10/10 [==============================] - 4s 435ms/step - loss: 0.1861 - accuracy: 0.9433 - val_loss: 0.1795 - val_accuracy: 0.9242\n",
            "Epoch 10/50\n",
            "10/10 [==============================] - 4s 381ms/step - loss: 0.0781 - accuracy: 0.9782 - val_loss: 0.1121 - val_accuracy: 0.9646\n",
            "Epoch 11/50\n",
            "10/10 [==============================] - 3s 358ms/step - loss: 0.2492 - accuracy: 0.8856 - val_loss: 0.2173 - val_accuracy: 0.9091\n",
            "Epoch 12/50\n",
            "10/10 [==============================] - 2s 245ms/step - loss: 0.2099 - accuracy: 0.9109 - val_loss: 0.2016 - val_accuracy: 0.8889\n",
            "Epoch 13/50\n",
            "10/10 [==============================] - 3s 350ms/step - loss: 0.1875 - accuracy: 0.9320 - val_loss: 0.1140 - val_accuracy: 0.9495\n",
            "Epoch 14/50\n",
            "10/10 [==============================] - 2s 247ms/step - loss: 0.0951 - accuracy: 0.9717 - val_loss: 0.3423 - val_accuracy: 0.8687\n",
            "Epoch 15/50\n",
            "10/10 [==============================] - 2s 241ms/step - loss: 0.2151 - accuracy: 0.9393 - val_loss: 0.1589 - val_accuracy: 0.9343\n",
            "Epoch 16/50\n",
            "10/10 [==============================] - 2s 240ms/step - loss: 0.1240 - accuracy: 0.9566 - val_loss: 0.1507 - val_accuracy: 0.9293\n",
            "Epoch 17/50\n",
            "10/10 [==============================] - 2s 245ms/step - loss: 0.1545 - accuracy: 0.9628 - val_loss: 0.2288 - val_accuracy: 0.9192\n",
            "Epoch 18/50\n",
            "10/10 [==============================] - 2s 240ms/step - loss: 0.1969 - accuracy: 0.9371 - val_loss: 0.4001 - val_accuracy: 0.8485\n",
            "Epoch 19/50\n",
            "10/10 [==============================] - 2s 240ms/step - loss: 0.2136 - accuracy: 0.8845 - val_loss: 0.0950 - val_accuracy: 0.9545\n",
            "Epoch 20/50\n",
            "10/10 [==============================] - 2s 236ms/step - loss: 0.1025 - accuracy: 0.9599 - val_loss: 0.1368 - val_accuracy: 0.9343\n",
            "Epoch 21/50\n",
            "10/10 [==============================] - 2s 236ms/step - loss: 0.0994 - accuracy: 0.9742 - val_loss: 0.0830 - val_accuracy: 0.9646\n",
            "Epoch 22/50\n",
            "10/10 [==============================] - 2s 239ms/step - loss: 0.0938 - accuracy: 0.9716 - val_loss: 0.0949 - val_accuracy: 0.9596\n",
            "Epoch 23/50\n",
            "10/10 [==============================] - 2s 240ms/step - loss: 0.2483 - accuracy: 0.9223 - val_loss: 0.0634 - val_accuracy: 0.9747\n",
            "Epoch 24/50\n",
            "10/10 [==============================] - 2s 233ms/step - loss: 0.1078 - accuracy: 0.9658 - val_loss: 0.0461 - val_accuracy: 0.9747\n",
            "Epoch 25/50\n",
            "10/10 [==============================] - 2s 238ms/step - loss: 0.2096 - accuracy: 0.9389 - val_loss: 0.0801 - val_accuracy: 0.9646\n",
            "Epoch 26/50\n",
            "10/10 [==============================] - 2s 238ms/step - loss: 0.0736 - accuracy: 0.9684 - val_loss: 0.2854 - val_accuracy: 0.8485\n",
            "Epoch 27/50\n",
            "10/10 [==============================] - 2s 237ms/step - loss: 0.1141 - accuracy: 0.9640 - val_loss: 0.1097 - val_accuracy: 0.9444\n",
            "Epoch 28/50\n",
            "10/10 [==============================] - 2s 241ms/step - loss: 0.1718 - accuracy: 0.9333 - val_loss: 0.0706 - val_accuracy: 0.9545\n",
            "Epoch 29/50\n",
            "10/10 [==============================] - 2s 242ms/step - loss: 0.2410 - accuracy: 0.9090 - val_loss: 0.1879 - val_accuracy: 0.9091\n",
            "Epoch 30/50\n",
            "10/10 [==============================] - 2s 243ms/step - loss: 0.0801 - accuracy: 0.9825 - val_loss: 0.0611 - val_accuracy: 0.9747\n",
            "Epoch 31/50\n",
            "10/10 [==============================] - 2s 239ms/step - loss: 0.0498 - accuracy: 0.9784 - val_loss: 0.1657 - val_accuracy: 0.9495\n",
            "Epoch 32/50\n",
            "10/10 [==============================] - 2s 241ms/step - loss: 0.0744 - accuracy: 0.9810 - val_loss: 0.1891 - val_accuracy: 0.9141\n",
            "Epoch 33/50\n",
            "10/10 [==============================] - 2s 238ms/step - loss: 0.0838 - accuracy: 0.9703 - val_loss: 0.0925 - val_accuracy: 0.9545\n",
            "Epoch 34/50\n",
            "10/10 [==============================] - 2s 248ms/step - loss: 0.1369 - accuracy: 0.9397 - val_loss: 0.1170 - val_accuracy: 0.9343\n",
            "Epoch 35/50\n",
            "10/10 [==============================] - 2s 236ms/step - loss: 0.0631 - accuracy: 0.9804 - val_loss: 0.0316 - val_accuracy: 0.9848\n",
            "Epoch 36/50\n",
            "10/10 [==============================] - 2s 237ms/step - loss: 0.0791 - accuracy: 0.9666 - val_loss: 0.0364 - val_accuracy: 0.9949\n",
            "Epoch 37/50\n",
            "10/10 [==============================] - 2s 243ms/step - loss: 0.1394 - accuracy: 0.9599 - val_loss: 0.0444 - val_accuracy: 0.9949\n",
            "Epoch 38/50\n",
            "10/10 [==============================] - 2s 249ms/step - loss: 0.0556 - accuracy: 0.9795 - val_loss: 0.7657 - val_accuracy: 0.7828\n",
            "Epoch 39/50\n",
            "10/10 [==============================] - 2s 246ms/step - loss: 0.3385 - accuracy: 0.8528 - val_loss: 0.0723 - val_accuracy: 0.9747\n",
            "Epoch 40/50\n",
            "10/10 [==============================] - 2s 239ms/step - loss: 0.1409 - accuracy: 0.9518 - val_loss: 0.0563 - val_accuracy: 0.9798\n",
            "Epoch 41/50\n",
            "10/10 [==============================] - 2s 244ms/step - loss: 0.0267 - accuracy: 1.0000 - val_loss: 0.0248 - val_accuracy: 0.9949\n",
            "Epoch 42/50\n",
            "10/10 [==============================] - 2s 242ms/step - loss: 0.0681 - accuracy: 0.9773 - val_loss: 0.0982 - val_accuracy: 0.9697\n",
            "Epoch 43/50\n",
            "10/10 [==============================] - 2s 246ms/step - loss: 0.0568 - accuracy: 0.9662 - val_loss: 0.1257 - val_accuracy: 0.9495\n",
            "Epoch 44/50\n",
            "10/10 [==============================] - 2s 246ms/step - loss: 0.0453 - accuracy: 0.9856 - val_loss: 0.0268 - val_accuracy: 0.9899\n",
            "Epoch 45/50\n",
            "10/10 [==============================] - 2s 248ms/step - loss: 0.0574 - accuracy: 0.9865 - val_loss: 0.0314 - val_accuracy: 0.9848\n",
            "Epoch 46/50\n",
            "10/10 [==============================] - 2s 242ms/step - loss: 0.0848 - accuracy: 0.9644 - val_loss: 0.1193 - val_accuracy: 0.9545\n",
            "Epoch 47/50\n",
            "10/10 [==============================] - 2s 245ms/step - loss: 0.0546 - accuracy: 0.9627 - val_loss: 0.0434 - val_accuracy: 0.9899\n",
            "Epoch 48/50\n",
            "10/10 [==============================] - 2s 244ms/step - loss: 0.0457 - accuracy: 0.9813 - val_loss: 0.0316 - val_accuracy: 0.9848\n",
            "Epoch 49/50\n",
            "10/10 [==============================] - 2s 245ms/step - loss: 0.0488 - accuracy: 0.9789 - val_loss: 0.0167 - val_accuracy: 0.9949\n",
            "Epoch 50/50\n",
            "10/10 [==============================] - 2s 238ms/step - loss: 0.0768 - accuracy: 0.9839 - val_loss: 0.0333 - val_accuracy: 0.9899\n"
          ],
          "name": "stdout"
        }
      ]
    },
    {
      "cell_type": "code",
      "metadata": {
        "id": "22QNbhDC_tIN"
      },
      "source": [
        "model.save_weights('fiftyepochs_faceclassifier.h5')"
      ],
      "execution_count": 36,
      "outputs": []
    },
    {
      "cell_type": "code",
      "metadata": {
        "colab": {
          "base_uri": "https://localhost:8080/",
          "height": 35
        },
        "id": "xWr8SDA9g7Jw",
        "outputId": "5b93d090-ec9e-4602-a8ef-12b8362fd666"
      },
      "source": [
        "pwd"
      ],
      "execution_count": 18,
      "outputs": [
        {
          "output_type": "execute_result",
          "data": {
            "application/vnd.google.colaboratory.intrinsic+json": {
              "type": "string"
            },
            "text/plain": [
              "'/content'"
            ]
          },
          "metadata": {
            "tags": []
          },
          "execution_count": 18
        }
      ]
    },
    {
      "cell_type": "code",
      "metadata": {
        "id": "ClvM65hzSB29"
      },
      "source": [
        "img_pred = image.load_img('/content/drive/MyDrive/Mydrive/Face Mask/maskdata/FinalTest/test1.jpg', target_size =(150,150) )  # this is a PIL image\n",
        "img_pred = image.img_to_array(img_pred)"
      ],
      "execution_count": 19,
      "outputs": []
    },
    {
      "cell_type": "code",
      "metadata": {
        "id": "0mqVwy2raqLF"
      },
      "source": [
        "img_pred = np.expand_dims(img_pred, axis =0)"
      ],
      "execution_count": 20,
      "outputs": []
    },
    {
      "cell_type": "code",
      "metadata": {
        "id": "PNzgQdw2a-KC"
      },
      "source": [
        "rslt = model.predict(img_pred)"
      ],
      "execution_count": 21,
      "outputs": []
    },
    {
      "cell_type": "code",
      "metadata": {
        "colab": {
          "base_uri": "https://localhost:8080/"
        },
        "id": "7hcGcDuLbG5p",
        "outputId": "875998e4-57ef-40cd-a0a7-7ecd309c9f5f"
      },
      "source": [
        "print(rslt)"
      ],
      "execution_count": 22,
      "outputs": [
        {
          "output_type": "stream",
          "text": [
            "[[1.]]\n"
          ],
          "name": "stdout"
        }
      ]
    },
    {
      "cell_type": "code",
      "metadata": {
        "id": "IVLPDyusbfsY"
      },
      "source": [
        "if rslt[0][0] ==1:\n",
        "  prediction = \"No mask\"\n",
        "else:\n",
        "  prediction = \"Mask\""
      ],
      "execution_count": 23,
      "outputs": []
    },
    {
      "cell_type": "code",
      "metadata": {
        "colab": {
          "base_uri": "https://localhost:8080/"
        },
        "id": "9H_h-DmucAA_",
        "outputId": "eaafc586-1c9d-498e-a333-13408949b92f"
      },
      "source": [
        "print(prediction)"
      ],
      "execution_count": 24,
      "outputs": [
        {
          "output_type": "stream",
          "text": [
            "No mask\n"
          ],
          "name": "stdout"
        }
      ]
    },
    {
      "cell_type": "code",
      "metadata": {
        "id": "sibgK-o18euo"
      },
      "source": [
        "img_pred = image.load_img('/content/drive/MyDrive/Mydrive/Face Mask/maskdata/FinalTest/maksssksksss37.png', target_size =(150,150) )  # this is a PIL image\n",
        "img_pred = image.img_to_array(img_pred)"
      ],
      "execution_count": 25,
      "outputs": []
    },
    {
      "cell_type": "code",
      "metadata": {
        "id": "TKlpw8D48e-A"
      },
      "source": [
        "img_pred = np.expand_dims(img_pred, axis =0)"
      ],
      "execution_count": 26,
      "outputs": []
    },
    {
      "cell_type": "code",
      "metadata": {
        "id": "vWeqhSIJ8ve6"
      },
      "source": [
        "rslt = model.predict(img_pred)"
      ],
      "execution_count": 27,
      "outputs": []
    },
    {
      "cell_type": "code",
      "metadata": {
        "id": "6rmmAY7D8viF"
      },
      "source": [
        "if rslt[0][0] ==1:\n",
        "  prediction = \"No mask\"\n",
        "else:\n",
        "  prediction = \"Mask\""
      ],
      "execution_count": 28,
      "outputs": []
    },
    {
      "cell_type": "code",
      "metadata": {
        "colab": {
          "base_uri": "https://localhost:8080/"
        },
        "id": "myz0bhFM82Jw",
        "outputId": "c1ac0e73-a697-4099-c740-788d8539fab4"
      },
      "source": [
        "print(prediction)"
      ],
      "execution_count": 29,
      "outputs": [
        {
          "output_type": "stream",
          "text": [
            "No mask\n"
          ],
          "name": "stdout"
        }
      ]
    },
    {
      "cell_type": "code",
      "metadata": {
        "id": "HxAOA656Mdt0"
      },
      "source": [
        "img_pred = image.load_img('/content/drive/MyDrive/Mydrive/Face Mask/maskdata/FinalTest/maksssksksss17.png', target_size =(150,150) )  # this is a PIL image\n",
        "img_pred = image.img_to_array(img_pred)"
      ],
      "execution_count": 30,
      "outputs": []
    },
    {
      "cell_type": "code",
      "metadata": {
        "id": "uSS0IgDMMdw6"
      },
      "source": [
        "img_pred = np.expand_dims(img_pred, axis =0)"
      ],
      "execution_count": 31,
      "outputs": []
    },
    {
      "cell_type": "code",
      "metadata": {
        "id": "Bw13fJIcMd7u"
      },
      "source": [
        "rslt = model.predict(img_pred)"
      ],
      "execution_count": 32,
      "outputs": []
    },
    {
      "cell_type": "code",
      "metadata": {
        "id": "pBniwMCQMd9l"
      },
      "source": [
        "if rslt[0][0] ==1:\n",
        "  prediction = \"No mask\"\n",
        "else:\n",
        "  prediction = \"Mask\""
      ],
      "execution_count": 33,
      "outputs": []
    },
    {
      "cell_type": "code",
      "metadata": {
        "colab": {
          "base_uri": "https://localhost:8080/"
        },
        "id": "_68uNt9lMprn",
        "outputId": "15b44ce8-3ca7-44b2-ee3b-40cb39a5fe7c"
      },
      "source": [
        "print(prediction)"
      ],
      "execution_count": 34,
      "outputs": [
        {
          "output_type": "stream",
          "text": [
            "No mask\n"
          ],
          "name": "stdout"
        }
      ]
    },
    {
      "cell_type": "code",
      "metadata": {
        "colab": {
          "base_uri": "https://localhost:8080/",
          "height": 530
        },
        "id": "vMWLyrqCcCl3",
        "outputId": "928d7d75-0073-4fcd-c05a-28cfb127bc44"
      },
      "source": [
        "# plot the loss\n",
        "import matplotlib.pyplot as plt\n",
        "plt.plot(r.history['loss'], label='train loss')\n",
        "plt.plot(r.history['val_loss'], label='val loss')\n",
        "plt.legend()\n",
        "plt.show()\n",
        "plt.savefig('LossVal_loss')\n",
        "\n",
        "# plot the accuracy\n",
        "plt.plot(r.history['accuracy'], label='train acc')\n",
        "plt.plot(r.history['val_accuracy'], label='val acc')\n",
        "plt.legend()\n",
        "plt.show()\n",
        "plt.savefig('AccVal_acc')"
      ],
      "execution_count": 35,
      "outputs": [
        {
          "output_type": "display_data",
          "data": {
            "image/png": "[encoded data removed]",
            "text/plain": [
              "<Figure size 432x288 with 1 Axes>"
            ]
          },
          "metadata": {
            "tags": [],
            "needs_background": "light"
          }
        },
        {
          "output_type": "display_data",
          "data": {
            "image/png": "[encoded data removed]",
            "text/plain": [
              "<Figure size 432x288 with 1 Axes>"
            ]
          },
          "metadata": {
            "tags": [],
            "needs_background": "light"
          }
        },
        {
          "output_type": "display_data",
          "data": {
            "text/plain": [
              "<Figure size 432x288 with 0 Axes>"
            ]
          },
          "metadata": {
            "tags": []
          }
        }
      ]
    },
    {
      "cell_type": "code",
      "metadata": {
        "id": "sSPbPzEleCaB"
      },
      "source": [
        ""
      ],
      "execution_count": 116,
      "outputs": []
    },
    {
      "cell_type": "code",
      "metadata": {
        "id": "H-puSi8wPTdW"
      },
      "source": [
        ""
      ],
      "execution_count": null,
      "outputs": []
    }
  ]
}